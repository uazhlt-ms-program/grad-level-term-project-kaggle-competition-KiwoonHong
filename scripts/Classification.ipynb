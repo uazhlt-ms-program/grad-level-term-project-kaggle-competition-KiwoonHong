{
 "cells": [
  {
   "cell_type": "markdown",
   "id": "b21a7273",
   "metadata": {},
   "source": [
    "## Ling-539 Term Project"
   ]
  },
  {
   "cell_type": "markdown",
   "id": "01910572",
   "metadata": {},
   "source": [
    "## Author: Kiwoon Hong"
   ]
  },
  {
   "cell_type": "markdown",
   "id": "7ad6e1cc",
   "metadata": {},
   "source": [
    "### Import Libraries"
   ]
  },
  {
   "cell_type": "code",
   "execution_count": 1,
   "id": "511b2110",
   "metadata": {},
   "outputs": [],
   "source": [
    "import os\n",
    "import pandas as pd\n",
    "import numpy as np\n",
    "\n",
    "from typing import Iterator, Iterable, List, Tuple, Text, Union\n",
    "from scipy.sparse import spmatrix\n",
    "\n",
    "from sklearn.feature_extraction.text import CountVectorizer\n",
    "from sklearn.preprocessing import LabelEncoder\n",
    "from sklearn.linear_model import LogisticRegression"
   ]
  },
  {
   "cell_type": "markdown",
   "id": "1f571e41",
   "metadata": {},
   "source": [
    "### Load Data"
   ]
  },
  {
   "cell_type": "code",
   "execution_count": 2,
   "id": "e4e2a8b0",
   "metadata": {},
   "outputs": [],
   "source": [
    "### Global paths\n",
    "DATA_ROOT = '../data'\n",
    "PATH_TO_TRAIN = os.path.join(DATA_ROOT, 'train.csv')\n",
    "PATH_TO_TEST = os.path.join(DATA_ROOT, 'test.csv')\n",
    "\n",
    "### Load data\n",
    "train = pd.read_csv(PATH_TO_TRAIN)\n",
    "test = pd.read_csv(PATH_TO_TEST)\n"
   ]
  },
  {
   "cell_type": "markdown",
   "id": "e1eb0d0a",
   "metadata": {},
   "source": [
    "### EDA"
   ]
  },
  {
   "cell_type": "code",
   "execution_count": 3,
   "id": "651521a0",
   "metadata": {},
   "outputs": [
    {
     "name": "stdout",
     "output_type": "stream",
     "text": [
      "                     ID                                               TEXT  \\\n",
      "0   7850790573542594519  If you love good films don't ever buy this pei...   \n",
      "1   9392069522632994700  The 33 percent of the nations nitwits that sti...   \n",
      "2   5083704536542443514  I saw Anatomy years ago -- dubbed at a friends...   \n",
      "3  12418349755186772171  Dark Remains is a home run plain and simple. T...   \n",
      "4  12144957944004619479  Feh. This movie started out in an interesting ...   \n",
      "\n",
      "   LABEL  \n",
      "0      2  \n",
      "1      2  \n",
      "2      1  \n",
      "3      1  \n",
      "4      2  \n",
      "                     ID                                               TEXT\n",
      "0   4728459160322025755  An excellent debut movie for the the director ...\n",
      "1   1840432070229003467  If you have a preschooler or remember how stre...\n",
      "2  12623336783082722606  What should have been a routine babysitting gi...\n",
      "3   7446733850828603409                                           Cute but\n",
      "4  16180660281866613068  Elvis Presley plays a \"half-breed\" Native Amer...\n",
      "\n",
      " Unique Values: [2 1 0]\n",
      "          ID   TEXT  LABEL\n",
      "0      False  False  False\n",
      "1      False  False  False\n",
      "2      False  False  False\n",
      "3      False  False  False\n",
      "4      False  False  False\n",
      "...      ...    ...    ...\n",
      "70312  False  False  False\n",
      "70313  False  False  False\n",
      "70314  False  False  False\n",
      "70315  False  False  False\n",
      "70316  False  False  False\n",
      "\n",
      "[70317 rows x 3 columns]\n",
      "ID       0\n",
      "TEXT     6\n",
      "LABEL    0\n",
      "dtype: int64\n",
      "NA data:                        ID TEXT\n",
      "5732  5761337299178905859  NaN\n",
      "NA data: Empty DataFrame\n",
      "Columns: [ID, TEXT]\n",
      "Index: []\n",
      "NA data: Empty DataFrame\n",
      "Columns: [ID, TEXT]\n",
      "Index: []\n",
      "ID      0\n",
      "TEXT    1\n",
      "dtype: int64\n",
      "ID       0\n",
      "TEXT     0\n",
      "LABEL    0\n",
      "dtype: int64 ID      0\n",
      "TEXT    0\n",
      "dtype: int64\n"
     ]
    }
   ],
   "source": [
    "### Peek at the data\n",
    "print(train.head())\n",
    "print(test.head())\n",
    "\n",
    "###Find NA values in label\n",
    "print(\"\\n Unique Values:\", train['LABEL'].unique())\n",
    "train_nan_values = train.isna().sum()\n",
    "print(train.isna())\n",
    "print(train_nan_values)\n",
    "\n",
    "\n",
    "test_nan_values = test.isna().sum()\n",
    "na_data = test[test.isna().any(axis=1)]\n",
    "print(\"NA data:\", na_data)\n",
    "\n",
    "test.loc[test['ID'] == 5761337299178905859, 'TEXT'] = \"0\"\n",
    "na_data = test[test.isna().any(axis=1)]\n",
    "print(\"NA data:\", na_data)\n",
    "\n",
    "print(\"NA data:\", na_data)\n",
    "print(test_nan_values)\n",
    "\n",
    "train = train.dropna()\n",
    "\n",
    "train_nan_values = train.isna().sum()\n",
    "test_nan_values = test.isna().sum()\n",
    "\n",
    "print(train_nan_values, test_nan_values)"
   ]
  },
  {
   "cell_type": "markdown",
   "id": "51fbb78e",
   "metadata": {},
   "source": [
    "### Classification Model - Logistic Regression"
   ]
  },
  {
   "cell_type": "markdown",
   "id": "3fc3c47d",
   "metadata": {},
   "source": [
    "#### Logistic Regression - Process data"
   ]
  },
  {
   "cell_type": "code",
   "execution_count": 4,
   "id": "565ff566",
   "metadata": {},
   "outputs": [],
   "source": [
    "### Separate texts and labels\n",
    "traintexts = train['TEXT']\n",
    "trainlabels = train['LABEL']\n",
    "testtexts = test['TEXT']"
   ]
  },
  {
   "cell_type": "markdown",
   "id": "fadd3797",
   "metadata": {},
   "source": [
    "#### Logistic Regression - Define feature transformation"
   ]
  },
  {
   "cell_type": "code",
   "execution_count": 5,
   "id": "d0bc223f",
   "metadata": {},
   "outputs": [],
   "source": [
    "class TextToFeatures:\n",
    "    def __init__(self):\n",
    "        self.vectorizer = CountVectorizer(decode_error='ignore')\n",
    "    \n",
    "    def transform(self, texts):\n",
    "        return self.vectorizer.transform(texts)\n",
    "\n",
    "    def fit_transform(self, texts):\n",
    "        return self.vectorizer.fit_transform(texts)"
   ]
  },
  {
   "cell_type": "markdown",
   "id": "34a1f915",
   "metadata": {},
   "source": [
    "#### Logistic Regression - Define classifier"
   ]
  },
  {
   "cell_type": "code",
   "execution_count": 6,
   "id": "3e13069a",
   "metadata": {},
   "outputs": [],
   "source": [
    "class Classifier:\n",
    "    def __init__(self):\n",
    "        self.model = LogisticRegression()\n",
    "\n",
    "    def fit(self, features, labels):\n",
    "        self.model.fit(features, labels)\n",
    "\n",
    "    def predict(self, features):\n",
    "        return self.model.predict(features)"
   ]
  },
  {
   "cell_type": "markdown",
   "id": "a72a9f66",
   "metadata": {},
   "source": [
    "#### Logistic Regression - Prediction and evaluation"
   ]
  },
  {
   "cell_type": "code",
   "execution_count": 7,
   "id": "57fa0d51",
   "metadata": {},
   "outputs": [
    {
     "name": "stderr",
     "output_type": "stream",
     "text": [
      "C:\\Users\\kiwoo\\anaconda3\\Lib\\site-packages\\sklearn\\linear_model\\_logistic.py:460: ConvergenceWarning: lbfgs failed to converge (status=1):\n",
      "STOP: TOTAL NO. of ITERATIONS REACHED LIMIT.\n",
      "\n",
      "Increase the number of iterations (max_iter) or scale the data as shown in:\n",
      "    https://scikit-learn.org/stable/modules/preprocessing.html\n",
      "Please also refer to the documentation for alternative solver options:\n",
      "    https://scikit-learn.org/stable/modules/linear_model.html#logistic-regression\n",
      "  n_iter_i = _check_optimize_result(\n"
     ]
    }
   ],
   "source": [
    "ttf = TextToFeatures()\n",
    "features = ttf.fit_transform(traintexts)\n",
    "\n",
    "classifier = Classifier()\n",
    "classifier.fit(features, trainlabels)\n",
    "\n",
    "test_features = ttf.transform(testtexts)\n",
    "predictions = classifier.predict(test_features)"
   ]
  },
  {
   "cell_type": "code",
   "execution_count": 8,
   "id": "e8e9eae5",
   "metadata": {},
   "outputs": [],
   "source": [
    "test['LABEL'] = predictions\n",
    "\n",
    "test.drop(columns=['TEXT'], inplace=True)\n",
    "\n",
    "save_path = os.path.join(DATA_ROOT, 'sample_submission.csv')\n",
    "test.to_csv(save_path, index=False)"
   ]
  },
  {
   "cell_type": "code",
   "execution_count": 9,
   "id": "a6ba9483",
   "metadata": {},
   "outputs": [
    {
     "name": "stdout",
     "output_type": "stream",
     "text": [
      "17580\n"
     ]
    }
   ],
   "source": [
    "print(test.shape[0])"
   ]
  }
 ],
 "metadata": {
  "kernelspec": {
   "display_name": "Python 3 (ipykernel)",
   "language": "python",
   "name": "python3"
  },
  "language_info": {
   "codemirror_mode": {
    "name": "ipython",
    "version": 3
   },
   "file_extension": ".py",
   "mimetype": "text/x-python",
   "name": "python",
   "nbconvert_exporter": "python",
   "pygments_lexer": "ipython3",
   "version": "3.11.4"
  }
 },
 "nbformat": 4,
 "nbformat_minor": 5
}
